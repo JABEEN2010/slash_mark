{
 "cells": [
  {
   "cell_type": "code",
   "execution_count": 1,
   "id": "e0ad3767",
   "metadata": {},
   "outputs": [
    {
     "ename": "ModuleNotFoundError",
     "evalue": "No module named 'tpot'",
     "output_type": "error",
     "traceback": [
      "\u001b[1;31m---------------------------------------------------------------------------\u001b[0m",
      "\u001b[1;31mModuleNotFoundError\u001b[0m                       Traceback (most recent call last)",
      "Cell \u001b[1;32mIn[1], line 25\u001b[0m\n\u001b[0;32m     22\u001b[0m \u001b[38;5;28;01mfrom\u001b[39;00m \u001b[38;5;21;01msklearn\u001b[39;00m\u001b[38;5;21;01m.\u001b[39;00m\u001b[38;5;21;01msvm\u001b[39;00m \u001b[38;5;28;01mimport\u001b[39;00m SVC\n\u001b[0;32m     23\u001b[0m \u001b[38;5;28;01mfrom\u001b[39;00m \u001b[38;5;21;01msklearn\u001b[39;00m\u001b[38;5;21;01m.\u001b[39;00m\u001b[38;5;21;01mnaive_bayes\u001b[39;00m \u001b[38;5;28;01mimport\u001b[39;00m MultinomialNB\n\u001b[1;32m---> 25\u001b[0m \u001b[38;5;28;01mfrom\u001b[39;00m \u001b[38;5;21;01mtpot\u001b[39;00m \u001b[38;5;28;01mimport\u001b[39;00m TPOTClassifier\n\u001b[0;32m     29\u001b[0m \u001b[38;5;28;01mimport\u001b[39;00m \u001b[38;5;21;01mwarnings\u001b[39;00m\n\u001b[0;32m     30\u001b[0m warnings\u001b[38;5;241m.\u001b[39mfilterwarnings(\u001b[38;5;124m\"\u001b[39m\u001b[38;5;124mignore\u001b[39m\u001b[38;5;124m\"\u001b[39m)\n",
      "\u001b[1;31mModuleNotFoundError\u001b[0m: No module named 'tpot'"
     ]
    }
   ],
   "source": [
    "import pandas as pd\n",
    "import numpy as np\n",
    "import re\n",
    "from matplotlib import pyplot as plt\n",
    "import seaborn as sns\n",
    "%matplotlib inline\n",
    "\n",
    "import nltk\n",
    "from nltk.corpus import stopwords\n",
    "from nltk.stem.porter import PorterStemmer\n",
    "\n",
    "from sklearn.feature_extraction.text import TfidfVectorizer\n",
    "from sklearn.feature_extraction.text import CountVectorizer\n",
    "from sklearn.feature_extraction.text import TfidfTransformer\n",
    "\n",
    "from sklearn.model_selection import train_test_split, cross_val_score\n",
    "from sklearn.metrics import confusion_matrix, classification_report, roc_curve, auc, RocCurveDisplay\n",
    "from sklearn.linear_model import LogisticRegression\n",
    "from sklearn.ensemble import RandomForestClassifier\n",
    "from sklearn.tree import DecisionTreeClassifier\n",
    "from sklearn.neighbors import KNeighborsClassifier\n",
    "from sklearn.svm import SVC\n",
    "from sklearn.naive_bayes import MultinomialNB\n",
    "\n",
    "from tpot import TPOTClassifier\n",
    "\n",
    "\n",
    "\n",
    "import warnings\n",
    "warnings.filterwarnings(\"ignore\")"
   ]
  },
  {
   "cell_type": "code",
   "execution_count": 2,
   "id": "1b39b8c5",
   "metadata": {},
   "outputs": [
    {
     "name": "stdout",
     "output_type": "stream",
     "text": [
      "Collecting tpot\n",
      "  Downloading TPOT-0.12.2-py3-none-any.whl (87 kB)\n",
      "     --------------------------------------- 87.4/87.4 kB 89.9 kB/s eta 0:00:00\n",
      "Requirement already satisfied: joblib>=0.13.2 in c:\\users\\dell\\anaconda3\\lib\\site-packages (from tpot) (1.1.1)\n",
      "Collecting xgboost>=1.1.0\n",
      "  Downloading xgboost-2.0.3-py3-none-win_amd64.whl (99.8 MB)\n",
      "     -------------------------------------- 99.8/99.8 MB 465.6 kB/s eta 0:00:00\n",
      "Collecting stopit>=1.1.1\n",
      "  Downloading stopit-1.1.2.tar.gz (18 kB)\n",
      "  Preparing metadata (setup.py): started\n",
      "  Preparing metadata (setup.py): finished with status 'done'\n",
      "Collecting update-checker>=0.16\n",
      "  Downloading update_checker-0.18.0-py3-none-any.whl (7.0 kB)\n",
      "Requirement already satisfied: tqdm>=4.36.1 in c:\\users\\dell\\anaconda3\\lib\\site-packages (from tpot) (4.64.1)\n",
      "Collecting scikit-learn>=1.4.1\n",
      "  Downloading scikit_learn-1.4.1.post1-cp310-cp310-win_amd64.whl (10.6 MB)\n",
      "     -------------------------------------- 10.6/10.6 MB 974.1 kB/s eta 0:00:00\n",
      "Collecting deap>=1.2\n",
      "  Downloading deap-1.4.1-cp310-cp310-win_amd64.whl (109 kB)\n",
      "     ------------------------------------ 109.3/109.3 kB 107.4 kB/s eta 0:00:00\n",
      "Requirement already satisfied: scipy>=1.3.1 in c:\\users\\dell\\anaconda3\\lib\\site-packages (from tpot) (1.10.0)\n",
      "Requirement already satisfied: numpy>=1.16.3 in c:\\users\\dell\\anaconda3\\lib\\site-packages (from tpot) (1.23.5)\n",
      "Requirement already satisfied: pandas>=0.24.2 in c:\\users\\dell\\anaconda3\\lib\\site-packages (from tpot) (1.5.3)\n",
      "Requirement already satisfied: pytz>=2020.1 in c:\\users\\dell\\anaconda3\\lib\\site-packages (from pandas>=0.24.2->tpot) (2022.7)\n",
      "Requirement already satisfied: python-dateutil>=2.8.1 in c:\\users\\dell\\anaconda3\\lib\\site-packages (from pandas>=0.24.2->tpot) (2.8.2)\n",
      "Collecting joblib>=0.13.2\n",
      "  Downloading joblib-1.3.2-py3-none-any.whl (302 kB)\n",
      "     ------------------------------------ 302.2/302.2 kB 301.3 kB/s eta 0:00:00\n",
      "Requirement already satisfied: threadpoolctl>=2.0.0 in c:\\users\\dell\\anaconda3\\lib\\site-packages (from scikit-learn>=1.4.1->tpot) (2.2.0)\n",
      "Requirement already satisfied: colorama in c:\\users\\dell\\anaconda3\\lib\\site-packages (from tqdm>=4.36.1->tpot) (0.4.6)\n",
      "Requirement already satisfied: requests>=2.3.0 in c:\\users\\dell\\anaconda3\\lib\\site-packages (from update-checker>=0.16->tpot) (2.28.1)\n",
      "Requirement already satisfied: six>=1.5 in c:\\users\\dell\\anaconda3\\lib\\site-packages (from python-dateutil>=2.8.1->pandas>=0.24.2->tpot) (1.16.0)\n",
      "Requirement already satisfied: urllib3<1.27,>=1.21.1 in c:\\users\\dell\\anaconda3\\lib\\site-packages (from requests>=2.3.0->update-checker>=0.16->tpot) (1.26.14)\n",
      "Requirement already satisfied: charset-normalizer<3,>=2 in c:\\users\\dell\\anaconda3\\lib\\site-packages (from requests>=2.3.0->update-checker>=0.16->tpot) (2.0.4)\n",
      "Requirement already satisfied: idna<4,>=2.5 in c:\\users\\dell\\anaconda3\\lib\\site-packages (from requests>=2.3.0->update-checker>=0.16->tpot) (3.4)\n",
      "Requirement already satisfied: certifi>=2017.4.17 in c:\\users\\dell\\anaconda3\\lib\\site-packages (from requests>=2.3.0->update-checker>=0.16->tpot) (2023.7.22)\n",
      "Building wheels for collected packages: stopit\n",
      "  Building wheel for stopit (setup.py): started\n",
      "  Building wheel for stopit (setup.py): finished with status 'done'\n",
      "  Created wheel for stopit: filename=stopit-1.1.2-py3-none-any.whl size=12019 sha256=16d23dd041f7e4d1f6e68213b1a122c2464295d6353052f351169ee6c55a4fa2\n",
      "  Stored in directory: c:\\users\\dell\\appdata\\local\\pip\\cache\\wheels\\ac\\b6\\fc\\67f7dd6291ee9a509bb12bb9b80773eed4b88bd55292ac672f\n",
      "Successfully built stopit\n",
      "Installing collected packages: stopit, joblib, deap, xgboost, update-checker, scikit-learn, tpot\n",
      "  Attempting uninstall: joblib\n",
      "    Found existing installation: joblib 1.1.1\n",
      "    Uninstalling joblib-1.1.1:\n",
      "      Successfully uninstalled joblib-1.1.1\n",
      "  Attempting uninstall: scikit-learn\n",
      "    Found existing installation: scikit-learn 1.2.1\n",
      "    Uninstalling scikit-learn-1.2.1:\n",
      "      Successfully uninstalled scikit-learn-1.2.1\n",
      "Successfully installed deap-1.4.1 joblib-1.3.2 scikit-learn-1.4.1.post1 stopit-1.1.2 tpot-0.12.2 update-checker-0.18.0 xgboost-2.0.3\n",
      "Note: you may need to restart the kernel to use updated packages.\n"
     ]
    }
   ],
   "source": [
    "pip install tpot"
   ]
  },
  {
   "cell_type": "code",
   "execution_count": 5,
   "id": "f7e537f2",
   "metadata": {},
   "outputs": [
    {
     "name": "stderr",
     "output_type": "stream",
     "text": [
      "[nltk_data] Downloading package stopwords to\n",
      "[nltk_data]     C:\\Users\\DELL\\AppData\\Roaming\\nltk_data...\n",
      "[nltk_data]   Unzipping corpora\\stopwords.zip.\n"
     ]
    },
    {
     "data": {
      "text/plain": [
       "True"
      ]
     },
     "execution_count": 5,
     "metadata": {},
     "output_type": "execute_result"
    }
   ],
   "source": [
    "import nltk\n",
    "nltk.download('stopwords')"
   ]
  },
  {
   "cell_type": "code",
   "execution_count": 6,
   "id": "30fddcab",
   "metadata": {},
   "outputs": [
    {
     "name": "stdout",
     "output_type": "stream",
     "text": [
      "['i', 'me', 'my', 'myself', 'we', 'our', 'ours', 'ourselves', 'you', \"you're\", \"you've\", \"you'll\", \"you'd\", 'your', 'yours', 'yourself', 'yourselves', 'he', 'him', 'his', 'himself', 'she', \"she's\", 'her', 'hers', 'herself', 'it', \"it's\", 'its', 'itself', 'they', 'them', 'their', 'theirs', 'themselves', 'what', 'which', 'who', 'whom', 'this', 'that', \"that'll\", 'these', 'those', 'am', 'is', 'are', 'was', 'were', 'be', 'been', 'being', 'have', 'has', 'had', 'having', 'do', 'does', 'did', 'doing', 'a', 'an', 'the', 'and', 'but', 'if', 'or', 'because', 'as', 'until', 'while', 'of', 'at', 'by', 'for', 'with', 'about', 'against', 'between', 'into', 'through', 'during', 'before', 'after', 'above', 'below', 'to', 'from', 'up', 'down', 'in', 'out', 'on', 'off', 'over', 'under', 'again', 'further', 'then', 'once', 'here', 'there', 'when', 'where', 'why', 'how', 'all', 'any', 'both', 'each', 'few', 'more', 'most', 'other', 'some', 'such', 'no', 'nor', 'not', 'only', 'own', 'same', 'so', 'than', 'too', 'very', 's', 't', 'can', 'will', 'just', 'don', \"don't\", 'should', \"should've\", 'now', 'd', 'll', 'm', 'o', 're', 've', 'y', 'ain', 'aren', \"aren't\", 'couldn', \"couldn't\", 'didn', \"didn't\", 'doesn', \"doesn't\", 'hadn', \"hadn't\", 'hasn', \"hasn't\", 'haven', \"haven't\", 'isn', \"isn't\", 'ma', 'mightn', \"mightn't\", 'mustn', \"mustn't\", 'needn', \"needn't\", 'shan', \"shan't\", 'shouldn', \"shouldn't\", 'wasn', \"wasn't\", 'weren', \"weren't\", 'won', \"won't\", 'wouldn', \"wouldn't\"]\n"
     ]
    }
   ],
   "source": [
    "print (stopwords.words('english'))"
   ]
  },
  {
   "cell_type": "code",
   "execution_count": 8,
   "id": "9f950c10",
   "metadata": {},
   "outputs": [
    {
     "data": {
      "text/html": [
       "<div>\n",
       "<style scoped>\n",
       "    .dataframe tbody tr th:only-of-type {\n",
       "        vertical-align: middle;\n",
       "    }\n",
       "\n",
       "    .dataframe tbody tr th {\n",
       "        vertical-align: top;\n",
       "    }\n",
       "\n",
       "    .dataframe thead th {\n",
       "        text-align: right;\n",
       "    }\n",
       "</style>\n",
       "<table border=\"1\" class=\"dataframe\">\n",
       "  <thead>\n",
       "    <tr style=\"text-align: right;\">\n",
       "      <th></th>\n",
       "      <th>id</th>\n",
       "      <th>title</th>\n",
       "      <th>author</th>\n",
       "      <th>text</th>\n",
       "      <th>label</th>\n",
       "    </tr>\n",
       "  </thead>\n",
       "  <tbody>\n",
       "    <tr>\n",
       "      <th>0</th>\n",
       "      <td>0</td>\n",
       "      <td>House Dem Aide: We Didn’t Even See Comey’s Let...</td>\n",
       "      <td>Darrell Lucus</td>\n",
       "      <td>House Dem Aide: We Didn’t Even See Comey’s Let...</td>\n",
       "      <td>1</td>\n",
       "    </tr>\n",
       "    <tr>\n",
       "      <th>1</th>\n",
       "      <td>1</td>\n",
       "      <td>FLYNN: Hillary Clinton, Big Woman on Campus - ...</td>\n",
       "      <td>Daniel J. Flynn</td>\n",
       "      <td>Ever get the feeling your life circles the rou...</td>\n",
       "      <td>0</td>\n",
       "    </tr>\n",
       "    <tr>\n",
       "      <th>2</th>\n",
       "      <td>2</td>\n",
       "      <td>Why the Truth Might Get You Fired</td>\n",
       "      <td>Consortiumnews.com</td>\n",
       "      <td>Why the Truth Might Get You Fired October 29, ...</td>\n",
       "      <td>1</td>\n",
       "    </tr>\n",
       "    <tr>\n",
       "      <th>3</th>\n",
       "      <td>3</td>\n",
       "      <td>15 Civilians Killed In Single US Airstrike Hav...</td>\n",
       "      <td>Jessica Purkiss</td>\n",
       "      <td>Videos 15 Civilians Killed In Single US Airstr...</td>\n",
       "      <td>1</td>\n",
       "    </tr>\n",
       "    <tr>\n",
       "      <th>4</th>\n",
       "      <td>4</td>\n",
       "      <td>Iranian woman jailed for fictional unpublished...</td>\n",
       "      <td>Howard Portnoy</td>\n",
       "      <td>Print \\nAn Iranian woman has been sentenced to...</td>\n",
       "      <td>1</td>\n",
       "    </tr>\n",
       "  </tbody>\n",
       "</table>\n",
       "</div>"
      ],
      "text/plain": [
       "   id                                              title              author  \\\n",
       "0   0  House Dem Aide: We Didn’t Even See Comey’s Let...       Darrell Lucus   \n",
       "1   1  FLYNN: Hillary Clinton, Big Woman on Campus - ...     Daniel J. Flynn   \n",
       "2   2                  Why the Truth Might Get You Fired  Consortiumnews.com   \n",
       "3   3  15 Civilians Killed In Single US Airstrike Hav...     Jessica Purkiss   \n",
       "4   4  Iranian woman jailed for fictional unpublished...      Howard Portnoy   \n",
       "\n",
       "                                                text  label  \n",
       "0  House Dem Aide: We Didn’t Even See Comey’s Let...      1  \n",
       "1  Ever get the feeling your life circles the rou...      0  \n",
       "2  Why the Truth Might Get You Fired October 29, ...      1  \n",
       "3  Videos 15 Civilians Killed In Single US Airstr...      1  \n",
       "4  Print \\nAn Iranian woman has been sentenced to...      1  "
      ]
     },
     "execution_count": 8,
     "metadata": {},
     "output_type": "execute_result"
    }
   ],
   "source": [
    "train_news = pd.read_csv(r\"C:\\Users\\DELL\\Desktop\\Untitled Folder\\train.csv\")\n",
    "train_news.head()"
   ]
  },
  {
   "cell_type": "code",
   "execution_count": 9,
   "id": "2eeff6fd",
   "metadata": {},
   "outputs": [
    {
     "data": {
      "text/html": [
       "<div>\n",
       "<style scoped>\n",
       "    .dataframe tbody tr th:only-of-type {\n",
       "        vertical-align: middle;\n",
       "    }\n",
       "\n",
       "    .dataframe tbody tr th {\n",
       "        vertical-align: top;\n",
       "    }\n",
       "\n",
       "    .dataframe thead th {\n",
       "        text-align: right;\n",
       "    }\n",
       "</style>\n",
       "<table border=\"1\" class=\"dataframe\">\n",
       "  <thead>\n",
       "    <tr style=\"text-align: right;\">\n",
       "      <th></th>\n",
       "      <th>id</th>\n",
       "      <th>title</th>\n",
       "      <th>author</th>\n",
       "      <th>text</th>\n",
       "    </tr>\n",
       "  </thead>\n",
       "  <tbody>\n",
       "    <tr>\n",
       "      <th>0</th>\n",
       "      <td>20800</td>\n",
       "      <td>Specter of Trump Loosens Tongues, if Not Purse...</td>\n",
       "      <td>David Streitfeld</td>\n",
       "      <td>PALO ALTO, Calif.  —   After years of scorning...</td>\n",
       "    </tr>\n",
       "    <tr>\n",
       "      <th>1</th>\n",
       "      <td>20801</td>\n",
       "      <td>Russian warships ready to strike terrorists ne...</td>\n",
       "      <td>NaN</td>\n",
       "      <td>Russian warships ready to strike terrorists ne...</td>\n",
       "    </tr>\n",
       "    <tr>\n",
       "      <th>2</th>\n",
       "      <td>20802</td>\n",
       "      <td>#NoDAPL: Native American Leaders Vow to Stay A...</td>\n",
       "      <td>Common Dreams</td>\n",
       "      <td>Videos #NoDAPL: Native American Leaders Vow to...</td>\n",
       "    </tr>\n",
       "    <tr>\n",
       "      <th>3</th>\n",
       "      <td>20803</td>\n",
       "      <td>Tim Tebow Will Attempt Another Comeback, This ...</td>\n",
       "      <td>Daniel Victor</td>\n",
       "      <td>If at first you don’t succeed, try a different...</td>\n",
       "    </tr>\n",
       "    <tr>\n",
       "      <th>4</th>\n",
       "      <td>20804</td>\n",
       "      <td>Keiser Report: Meme Wars (E995)</td>\n",
       "      <td>Truth Broadcast Network</td>\n",
       "      <td>42 mins ago 1 Views 0 Comments 0 Likes 'For th...</td>\n",
       "    </tr>\n",
       "  </tbody>\n",
       "</table>\n",
       "</div>"
      ],
      "text/plain": [
       "      id                                              title  \\\n",
       "0  20800  Specter of Trump Loosens Tongues, if Not Purse...   \n",
       "1  20801  Russian warships ready to strike terrorists ne...   \n",
       "2  20802  #NoDAPL: Native American Leaders Vow to Stay A...   \n",
       "3  20803  Tim Tebow Will Attempt Another Comeback, This ...   \n",
       "4  20804                    Keiser Report: Meme Wars (E995)   \n",
       "\n",
       "                    author                                               text  \n",
       "0         David Streitfeld  PALO ALTO, Calif.  —   After years of scorning...  \n",
       "1                      NaN  Russian warships ready to strike terrorists ne...  \n",
       "2            Common Dreams  Videos #NoDAPL: Native American Leaders Vow to...  \n",
       "3            Daniel Victor  If at first you don’t succeed, try a different...  \n",
       "4  Truth Broadcast Network  42 mins ago 1 Views 0 Comments 0 Likes 'For th...  "
      ]
     },
     "execution_count": 9,
     "metadata": {},
     "output_type": "execute_result"
    }
   ],
   "source": [
    "test_news = pd.read_csv(r\"C:\\Users\\DELL\\Desktop\\Untitled Folder\\test.csv\")\n",
    "test_news.head()"
   ]
  },
  {
   "cell_type": "code",
   "execution_count": 10,
   "id": "e651c87f",
   "metadata": {},
   "outputs": [
    {
     "data": {
      "text/plain": [
       "(20800, 5)"
      ]
     },
     "execution_count": 10,
     "metadata": {},
     "output_type": "execute_result"
    }
   ],
   "source": [
    "train_news.shape"
   ]
  },
  {
   "cell_type": "code",
   "execution_count": 11,
   "id": "b5d46895",
   "metadata": {},
   "outputs": [
    {
     "data": {
      "text/plain": [
       "(5200, 4)"
      ]
     },
     "execution_count": 11,
     "metadata": {},
     "output_type": "execute_result"
    }
   ],
   "source": [
    "test_news.shape"
   ]
  },
  {
   "cell_type": "code",
   "execution_count": 12,
   "id": "931f58b4",
   "metadata": {},
   "outputs": [
    {
     "data": {
      "text/plain": [
       "id           0\n",
       "title      558\n",
       "author    1957\n",
       "text        39\n",
       "label        0\n",
       "dtype: int64"
      ]
     },
     "execution_count": 12,
     "metadata": {},
     "output_type": "execute_result"
    }
   ],
   "source": [
    "train_news.isnull().sum()"
   ]
  },
  {
   "cell_type": "code",
   "execution_count": 13,
   "id": "feaaaf1f",
   "metadata": {},
   "outputs": [
    {
     "data": {
      "text/plain": [
       "id          0\n",
       "title     122\n",
       "author    503\n",
       "text        7\n",
       "dtype: int64"
      ]
     },
     "execution_count": 13,
     "metadata": {},
     "output_type": "execute_result"
    }
   ],
   "source": [
    "test_news.isnull().sum()"
   ]
  },
  {
   "cell_type": "code",
   "execution_count": 14,
   "id": "694b6638",
   "metadata": {},
   "outputs": [],
   "source": [
    "# replacing the null values with empty string\n",
    "train_news = train_news.fillna(' ')\n",
    "test_news = test_news.fillna(' ')"
   ]
  },
  {
   "cell_type": "code",
   "execution_count": 15,
   "id": "9210f99c",
   "metadata": {},
   "outputs": [],
   "source": [
    "# merging the author name and news title\n",
    "train_news['content'] = train_news['author']+' '+train_news['title']\n",
    "test_news['content'] = test_news['author']+' '+test_news['title']"
   ]
  },
  {
   "cell_type": "code",
   "execution_count": 16,
   "id": "b8579355",
   "metadata": {},
   "outputs": [
    {
     "name": "stdout",
     "output_type": "stream",
     "text": [
      "0        Darrell Lucus House Dem Aide: We Didn’t Even S...\n",
      "1        Daniel J. Flynn FLYNN: Hillary Clinton, Big Wo...\n",
      "2        Consortiumnews.com Why the Truth Might Get You...\n",
      "3        Jessica Purkiss 15 Civilians Killed In Single ...\n",
      "4        Howard Portnoy Iranian woman jailed for fictio...\n",
      "                               ...                        \n",
      "20795    Jerome Hudson Rapper T.I.: Trump a ’Poster Chi...\n",
      "20796    Benjamin Hoffman N.F.L. Playoffs: Schedule, Ma...\n",
      "20797    Michael J. de la Merced and Rachel Abrams Macy...\n",
      "20798    Alex Ansary NATO, Russia To Hold Parallel Exer...\n",
      "20799              David Swanson What Keeps the F-35 Alive\n",
      "Name: content, Length: 20800, dtype: object\n"
     ]
    }
   ],
   "source": [
    "print(train_news['content'])"
   ]
  },
  {
   "cell_type": "code",
   "execution_count": 17,
   "id": "edd728ac",
   "metadata": {},
   "outputs": [
    {
     "name": "stdout",
     "output_type": "stream",
     "text": [
      "0       David Streitfeld Specter of Trump Loosens Tong...\n",
      "1         Russian warships ready to strike terrorists ...\n",
      "2       Common Dreams #NoDAPL: Native American Leaders...\n",
      "3       Daniel Victor Tim Tebow Will Attempt Another C...\n",
      "4       Truth Broadcast Network Keiser Report: Meme Wa...\n",
      "                              ...                        \n",
      "5195    Jody Rosen The Bangladeshi Traffic Jam That Ne...\n",
      "5196    Sheryl Gay Stolberg John Kasich Signs One Abor...\n",
      "5197    Mike McPhate California Today: What, Exactly, ...\n",
      "5198      300 US Marines To Be Deployed To Russian Bor...\n",
      "5199    Teddy Wayne Awkward Sex, Onscreen and Off - Th...\n",
      "Name: content, Length: 5200, dtype: object\n"
     ]
    }
   ],
   "source": [
    "print(test_news['content'])"
   ]
  },
  {
   "cell_type": "code",
   "execution_count": 18,
   "id": "a0a0bd26",
   "metadata": {},
   "outputs": [],
   "source": [
    "port_stem = PorterStemmer()"
   ]
  },
  {
   "cell_type": "code",
   "execution_count": 19,
   "id": "ed0aa22b",
   "metadata": {},
   "outputs": [],
   "source": [
    "def stemming(content):\n",
    "    stemmed_content = re.sub('^a-zA-Z', ' ', content)\n",
    "    stemmed_content = stemmed_content.lower()\n",
    "    stemmed_content = stemmed_content.split()\n",
    "    stemmed_content = [port_stem.stem(word) for word in stemmed_content if not word in stopwords.words('english')]\n",
    "    stemmed_content = ' '.join(stemmed_content)\n",
    "    return stemmed_content"
   ]
  },
  {
   "cell_type": "code",
   "execution_count": 20,
   "id": "a711ce6b",
   "metadata": {},
   "outputs": [],
   "source": [
    "train_news['content'] = train_news['content'].apply(stemming)\n",
    "test_news['content'] = test_news['content'].apply(stemming)"
   ]
  },
  {
   "cell_type": "code",
   "execution_count": 21,
   "id": "09127a3d",
   "metadata": {},
   "outputs": [
    {
     "name": "stdout",
     "output_type": "stream",
     "text": [
      "0        darrel lucu hous dem aide: didn’t even see com...\n",
      "1        daniel j. flynn flynn: hillari clinton, big wo...\n",
      "2                  consortiumnews.com truth might get fire\n",
      "3        jessica purkiss 15 civilian kill singl us airs...\n",
      "4        howard portnoy iranian woman jail fiction unpu...\n",
      "                               ...                        \n",
      "20795    jerom hudson rapper t.i.: trump ’poster child ...\n",
      "20796    benjamin hoffman n.f.l. playoffs: schedule, ma...\n",
      "20797    michael j. de la merc rachel abram macy’ said ...\n",
      "20798    alex ansari nato, russia hold parallel exercis...\n",
      "20799                         david swanson keep f-35 aliv\n",
      "Name: content, Length: 20800, dtype: object\n"
     ]
    }
   ],
   "source": [
    "print(train_news['content'])"
   ]
  },
  {
   "cell_type": "code",
   "execution_count": 22,
   "id": "e7723630",
   "metadata": {},
   "outputs": [
    {
     "name": "stdout",
     "output_type": "stream",
     "text": [
      "0       david streitfeld specter trump loosen tongues,...\n",
      "1       russian warship readi strike terrorist near al...\n",
      "2       common dream #nodapl: nativ american leader vo...\n",
      "3       daniel victor tim tebow attempt anoth comeback...\n",
      "4       truth broadcast network keiser report: meme wa...\n",
      "                              ...                        \n",
      "5195    jodi rosen bangladeshi traffic jam never end -...\n",
      "5196    sheryl gay stolberg john kasich sign one abort...\n",
      "5197    mike mcphate california today: what, exactly, ...\n",
      "5198            300 us marin deploy russian border norway\n",
      "5199     teddi wayn awkward sex, onscreen - new york time\n",
      "Name: content, Length: 5200, dtype: object\n"
     ]
    }
   ],
   "source": [
    "print(test_news['content'])"
   ]
  },
  {
   "cell_type": "code",
   "execution_count": 23,
   "id": "e1bda1b4",
   "metadata": {},
   "outputs": [],
   "source": [
    "#separating the data and label\n",
    "X = train_news['content'].values\n",
    "Y = train_news['label'].values"
   ]
  },
  {
   "cell_type": "code",
   "execution_count": 24,
   "id": "58cb5540",
   "metadata": {},
   "outputs": [
    {
     "name": "stdout",
     "output_type": "stream",
     "text": [
      "['darrel lucu hous dem aide: didn’t even see comey’ letter jason chaffetz tweet'\n",
      " 'daniel j. flynn flynn: hillari clinton, big woman campu - breitbart'\n",
      " 'consortiumnews.com truth might get fire' ...\n",
      " 'michael j. de la merc rachel abram macy’ said receiv takeov approach hudson’ bay - new york time'\n",
      " 'alex ansari nato, russia hold parallel exercis balkan'\n",
      " 'david swanson keep f-35 aliv']\n"
     ]
    }
   ],
   "source": [
    "print(X)"
   ]
  },
  {
   "cell_type": "code",
   "execution_count": 25,
   "id": "19375db0",
   "metadata": {},
   "outputs": [
    {
     "name": "stdout",
     "output_type": "stream",
     "text": [
      "[1 0 1 ... 0 1 1]\n"
     ]
    }
   ],
   "source": [
    "print(Y)"
   ]
  },
  {
   "cell_type": "code",
   "execution_count": 26,
   "id": "d071359a",
   "metadata": {},
   "outputs": [
    {
     "data": {
      "text/plain": [
       "(20800,)"
      ]
     },
     "execution_count": 26,
     "metadata": {},
     "output_type": "execute_result"
    }
   ],
   "source": [
    "Y.shape"
   ]
  },
  {
   "cell_type": "code",
   "execution_count": 27,
   "id": "69106c28",
   "metadata": {},
   "outputs": [],
   "source": [
    "transformer = TfidfTransformer(smooth_idf=False)\n",
    "count_vectorizer = CountVectorizer(ngram_range=(1, 2))\n",
    "counts = count_vectorizer.fit_transform(train_news['content'].values)\n",
    "X = transformer.fit_transform(counts)"
   ]
  },
  {
   "cell_type": "code",
   "execution_count": 28,
   "id": "9a706a9b",
   "metadata": {},
   "outputs": [
    {
     "name": "stderr",
     "output_type": "stream",
     "text": [
      "C:\\Users\\DELL\\anaconda3\\lib\\site-packages\\sklearn\\feature_extraction\\text.py:1681: RuntimeWarning: divide by zero encountered in divide\n",
      "  # suppressed entirely.\n"
     ]
    }
   ],
   "source": [
    "Y = train_news['label'].values\n",
    "test_counts = count_vectorizer.transform(test_news['content'].values)\n",
    "test_tfidf = transformer.fit_transform(test_counts)"
   ]
  },
  {
   "cell_type": "code",
   "execution_count": 29,
   "id": "ceab62c8",
   "metadata": {},
   "outputs": [
    {
     "name": "stdout",
     "output_type": "stream",
     "text": [
      "  (0, 135930)\t0.1588471986018004\n",
      "  (0, 115809)\t0.24793148653615257\n",
      "  (0, 115798)\t0.13747300677495589\n",
      "  (0, 77621)\t0.24793148653615257\n",
      "  (0, 77614)\t0.19576128048469554\n",
      "  (0, 74801)\t0.24793148653615257\n",
      "  (0, 74779)\t0.15593308475506662\n",
      "  (0, 67783)\t0.19814845819564353\n",
      "  (0, 67779)\t0.13210799012659652\n",
      "  (0, 61949)\t0.24793148653615257\n",
      "  (0, 61909)\t0.11915729770198634\n",
      "  (0, 44092)\t0.24793148653615257\n",
      "  (0, 44034)\t0.1243290070746859\n",
      "  (0, 36696)\t0.22303997236589804\n",
      "  (0, 36686)\t0.1597536087737\n",
      "  (0, 35099)\t0.24793148653615257\n",
      "  (0, 35095)\t0.14597825214418647\n",
      "  (0, 33010)\t0.19576128048469554\n",
      "  (0, 33009)\t0.1936018155709678\n",
      "  (0, 27477)\t0.19814845819564353\n",
      "  (0, 27411)\t0.13156850672059786\n",
      "  (0, 22406)\t0.24793148653615257\n",
      "  (0, 22399)\t0.19814845819564353\n",
      "  (0, 4864)\t0.24793148653615257\n",
      "  (0, 4863)\t0.21652189273323433\n",
      "  :\t:\n",
      "  (20797, 2565)\t0.17751269732514657\n",
      "  (20798, 112148)\t0.3171116393668421\n",
      "  (20798, 112039)\t0.13565821442973863\n",
      "  (20798, 94516)\t0.3171116393668421\n",
      "  (20798, 94515)\t0.2852746630508008\n",
      "  (20798, 87374)\t0.29702474374530186\n",
      "  (20798, 87338)\t0.19399337117058932\n",
      "  (20798, 61022)\t0.3171116393668421\n",
      "  (20798, 60986)\t0.1989476024555316\n",
      "  (20798, 44792)\t0.3171116393668421\n",
      "  (20798, 44791)\t0.2568509525022214\n",
      "  (20798, 11805)\t0.27693784812376165\n",
      "  (20798, 7780)\t0.29702474374530186\n",
      "  (20798, 7739)\t0.18905688772617318\n",
      "  (20798, 5478)\t0.18940815584156476\n",
      "  (20798, 5477)\t0.17329205116131682\n",
      "  (20799, 127048)\t0.4330263902498437\n",
      "  (20799, 127042)\t0.3089481722249457\n",
      "  (20799, 69987)\t0.389551950276176\n",
      "  (20799, 69985)\t0.24923790049632386\n",
      "  (20799, 33306)\t0.3233091194528707\n",
      "  (20799, 33241)\t0.20538477686139214\n",
      "  (20799, 5674)\t0.3165086369202432\n",
      "  (20799, 1512)\t0.389551950276176\n",
      "  (20799, 1511)\t0.3233091194528707\n"
     ]
    }
   ],
   "source": [
    "print(X)"
   ]
  },
  {
   "cell_type": "code",
   "execution_count": 30,
   "id": "cab72189",
   "metadata": {},
   "outputs": [
    {
     "data": {
      "text/plain": [
       "(20800, 149839)"
      ]
     },
     "execution_count": 30,
     "metadata": {},
     "output_type": "execute_result"
    }
   ],
   "source": [
    "X.shape"
   ]
  },
  {
   "cell_type": "code",
   "execution_count": 31,
   "id": "2a8105a0",
   "metadata": {},
   "outputs": [
    {
     "name": "stdout",
     "output_type": "stream",
     "text": [
      "  (0, 146974)\t0.09183124629402446\n",
      "  (0, 146912)\t0.09159344849469447\n",
      "  (0, 138658)\t0.31361994032847285\n",
      "  (0, 133891)\t0.11556335066394374\n",
      "  (0, 131262)\t0.08973809446727839\n",
      "  (0, 125082)\t0.37176774852019523\n",
      "  (0, 119175)\t0.31922088484910977\n",
      "  (0, 119174)\t0.31922088484910977\n",
      "  (0, 103461)\t0.4008416526160564\n",
      "  (0, 88685)\t0.09159344849469447\n",
      "  (0, 88309)\t0.08864338808734092\n",
      "  (0, 77098)\t0.4008416526160564\n",
      "  (0, 33305)\t0.37176774852019523\n",
      "  (0, 33241)\t0.21352013132269787\n",
      "  (1, 141935)\t0.3197321056732977\n",
      "  (1, 129488)\t0.24220695226346456\n",
      "  (1, 125215)\t0.37398379841863216\n",
      "  (1, 125154)\t0.253017941422062\n",
      "  (1, 112495)\t0.33099034911763164\n",
      "  (1, 112324)\t0.20450347654140066\n",
      "  (1, 105694)\t0.37398379841863216\n",
      "  (1, 105655)\t0.27360623911302084\n",
      "  (1, 87652)\t0.37398379841863216\n",
      "  (1, 87651)\t0.25875516928673514\n",
      "  (1, 5374)\t0.24961280999962987\n",
      "  :\t:\n",
      "  (5197, 81248)\t0.3437050953071142\n",
      "  (5197, 81242)\t0.32881349067825716\n",
      "  (5197, 19649)\t0.3437050953071142\n",
      "  (5197, 19585)\t0.2854637071814326\n",
      "  (5198, 138124)\t0.33805719608963114\n",
      "  (5198, 137976)\t0.18388483916776885\n",
      "  (5198, 112348)\t0.3103521962588264\n",
      "  (5198, 112324)\t0.2088697512011079\n",
      "  (5198, 89921)\t0.3265585822423331\n",
      "  (5198, 79624)\t0.38196858190394256\n",
      "  (5198, 79618)\t0.28264719642802166\n",
      "  (5198, 35763)\t0.2988535824115284\n",
      "  (5198, 16606)\t0.2345245649355333\n",
      "  (5198, 1455)\t0.38196858190394256\n",
      "  (5198, 1439)\t0.2988535824115284\n",
      "  (5199, 146974)\t0.11005056724472459\n",
      "  (5199, 146912)\t0.10976559035764172\n",
      "  (5199, 142492)\t0.4106843094497719\n",
      "  (5199, 131262)\t0.10754213405712311\n",
      "  (5199, 117122)\t0.33507941973315636\n",
      "  (5199, 92439)\t0.4803686438542903\n",
      "  (5199, 92438)\t0.4803686438542903\n",
      "  (5199, 88685)\t0.10976559035764172\n",
      "  (5199, 88309)\t0.1062302379113079\n",
      "  (5199, 11082)\t0.4455264766520311\n"
     ]
    }
   ],
   "source": [
    "print(test_tfidf)"
   ]
  },
  {
   "cell_type": "code",
   "execution_count": 32,
   "id": "defd6980",
   "metadata": {},
   "outputs": [
    {
     "data": {
      "text/plain": [
       "(5200, 149839)"
      ]
     },
     "execution_count": 32,
     "metadata": {},
     "output_type": "execute_result"
    }
   ],
   "source": [
    "test_tfidf.shape"
   ]
  },
  {
   "cell_type": "code",
   "execution_count": 33,
   "id": "343b1838",
   "metadata": {},
   "outputs": [],
   "source": [
    "X_train, X_test, Y_train, Y_test = train_test_split(X, Y, test_size = 0.2, stratify=Y, random_state=42)"
   ]
  },
  {
   "cell_type": "code",
   "execution_count": 34,
   "id": "6ebd93f8",
   "metadata": {},
   "outputs": [
    {
     "name": "stdout",
     "output_type": "stream",
     "text": [
      "Number of Training dataset: 16640\n",
      "Number of Testing dataset: 4160\n"
     ]
    }
   ],
   "source": [
    "print(f\"Number of Training dataset: {X_train.shape[0]}\\nNumber of Testing dataset: {X_test.shape[0]}\")"
   ]
  },
  {
   "cell_type": "code",
   "execution_count": 35,
   "id": "86640779",
   "metadata": {},
   "outputs": [],
   "source": [
    "def kfolds(model, model_name):\n",
    "    model = cross_val_score(model, X,Y, cv=10)\n",
    "    model_score = np.average(model)\n",
    "    print(f\"{model_name} score on cross validation: {model_score * 100}%\")\n",
    "\n",
    "def train(model, model_name):\n",
    "    model.fit(X_train, Y_train)\n",
    "    model_train_score = model.score(X_train, Y_train)\n",
    "    model_test_score = model.score(X_test, Y_test)\n",
    "    print(f\"{model_name} model score on Training data: {model_train_score * 100}%\\n{model_name} model score on Testing data: {model_test_score * 100}%\")\n",
    "\n",
    "def conf_matrix(model):\n",
    "    Y_pred = model.predict(X_test)\n",
    "    cm = confusion_matrix(Y_test, Y_pred)\n",
    "    plt.figure(figsize=(8,5))\n",
    "    sns.heatmap(cm, annot=True, fmt='.2f');\n",
    "    \n",
    "def class_report(model):\n",
    "    Y_pred = model.predict(X_test)\n",
    "    print(classification_report(Y_test, Y_pred))\n",
    "    \n",
    "def roc(model, model_name):\n",
    "    Y_pred_svm = model.decision_function(X_test)\n",
    "    svm_fpr, svm_tpr, _ = roc_curve(Y_test, Y_pred_svm)\n",
    "    auc_svm = auc(svm_fpr, svm_tpr)\n",
    "    plt.figure(figsize=(5, 5), dpi=100)\n",
    "    plt.plot(svm_fpr, svm_tpr, color=\"darkorange\", label=f'{model_name} (auc = %0.3f)' % auc_svm)\n",
    "    plt.plot([0, 1], [0, 1], color=\"navy\", lw=2, linestyle=\"--\")\n",
    "    plt.xlabel('False Positive Rate -->')\n",
    "    plt.ylabel('True Positive Rate -->')\n",
    "    plt.legend()\n",
    "    plt.show()"
   ]
  },
  {
   "cell_type": "code",
   "execution_count": 36,
   "id": "e55e5d48",
   "metadata": {},
   "outputs": [
    {
     "name": "stdout",
     "output_type": "stream",
     "text": [
      "Logistic Regression model score on Training data: 99.0264423076923%\n",
      "Logistic Regression model score on Testing data: 96.70673076923076%\n"
     ]
    }
   ],
   "source": [
    "log_model = LogisticRegression()\n",
    "train(log_model, \"Logistic Regression\")"
   ]
  },
  {
   "cell_type": "code",
   "execution_count": 37,
   "id": "5880dcff",
   "metadata": {},
   "outputs": [
    {
     "data": {
      "image/png": "[encoded data removed]",
      "text/plain": [
       "<Figure size 800x500 with 2 Axes>"
      ]
     },
     "metadata": {},
     "output_type": "display_data"
    }
   ],
   "source": [
    "conf_matrix(log_model)"
   ]
  },
  {
   "cell_type": "code",
   "execution_count": 38,
   "id": "b24ff903",
   "metadata": {},
   "outputs": [
    {
     "name": "stdout",
     "output_type": "stream",
     "text": [
      "              precision    recall  f1-score   support\n",
      "\n",
      "           0       0.99      0.94      0.97      2077\n",
      "           1       0.94      0.99      0.97      2083\n",
      "\n",
      "    accuracy                           0.97      4160\n",
      "   macro avg       0.97      0.97      0.97      4160\n",
      "weighted avg       0.97      0.97      0.97      4160\n",
      "\n"
     ]
    }
   ],
   "source": [
    "class_report(log_model)"
   ]
  },
  {
   "cell_type": "code",
   "execution_count": 39,
   "id": "ea6fef22",
   "metadata": {},
   "outputs": [
    {
     "data": {
      "image/png": "[encoded data removed]",
      "text/plain": [
       "<Figure size 500x500 with 1 Axes>"
      ]
     },
     "metadata": {},
     "output_type": "display_data"
    }
   ],
   "source": [
    "roc(log_model, 'Logistic_Regression')"
   ]
  },
  {
   "cell_type": "code",
   "execution_count": 40,
   "id": "71030a05",
   "metadata": {},
   "outputs": [
    {
     "name": "stdout",
     "output_type": "stream",
     "text": [
      "SV_classifier model score on Training data: 99.97596153846153%\n",
      "SV_classifier model score on Testing data: 98.02884615384615%\n"
     ]
    }
   ],
   "source": [
    "svm_model = SVC()\n",
    "train(svm_model, 'SV_classifier')"
   ]
  },
  {
   "cell_type": "code",
   "execution_count": 41,
   "id": "3a6f5eb9",
   "metadata": {},
   "outputs": [
    {
     "data": {
      "image/png": "[encoded data removed]",
      "text/plain": [
       "<Figure size 800x500 with 2 Axes>"
      ]
     },
     "metadata": {},
     "output_type": "display_data"
    }
   ],
   "source": [
    "conf_matrix(svm_model)"
   ]
  },
  {
   "cell_type": "code",
   "execution_count": 42,
   "id": "05f07e3d",
   "metadata": {},
   "outputs": [
    {
     "name": "stdout",
     "output_type": "stream",
     "text": [
      "              precision    recall  f1-score   support\n",
      "\n",
      "           0       0.99      0.97      0.98      2077\n",
      "           1       0.97      0.99      0.98      2083\n",
      "\n",
      "    accuracy                           0.98      4160\n",
      "   macro avg       0.98      0.98      0.98      4160\n",
      "weighted avg       0.98      0.98      0.98      4160\n",
      "\n"
     ]
    }
   ],
   "source": [
    "class_report(svm_model)"
   ]
  },
  {
   "cell_type": "code",
   "execution_count": 43,
   "id": "89fafcb1",
   "metadata": {},
   "outputs": [
    {
     "data": {
      "image/png": "[encoded data removed]",
      "text/plain": [
       "<Figure size 500x500 with 1 Axes>"
      ]
     },
     "metadata": {},
     "output_type": "display_data"
    }
   ],
   "source": [
    "roc(svm_model, 'SV_classifier')"
   ]
  },
  {
   "cell_type": "code",
   "execution_count": 44,
   "id": "a2d5decb",
   "metadata": {},
   "outputs": [
    {
     "name": "stdout",
     "output_type": "stream",
     "text": [
      "Decision_Tree score on cross validation: 99.52403846153848%\n",
      "Decision_Tree model score on Training data: 100.0%\n",
      "Decision_Tree model score on Testing data: 99.35096153846153%\n"
     ]
    }
   ],
   "source": [
    "dt_model = DecisionTreeClassifier()\n",
    "kfolds(dt_model, \"Decision_Tree\")\n",
    "train(dt_model, \"Decision_Tree\")"
   ]
  },
  {
   "cell_type": "code",
   "execution_count": 45,
   "id": "c061b33e",
   "metadata": {},
   "outputs": [
    {
     "data": {
      "image/png": "[encoded data removed]",
      "text/plain": [
       "<Figure size 800x500 with 2 Axes>"
      ]
     },
     "metadata": {},
     "output_type": "display_data"
    }
   ],
   "source": [
    "conf_matrix(dt_model)"
   ]
  },
  {
   "cell_type": "code",
   "execution_count": 46,
   "id": "652fbcb3",
   "metadata": {},
   "outputs": [
    {
     "name": "stdout",
     "output_type": "stream",
     "text": [
      "              precision    recall  f1-score   support\n",
      "\n",
      "           0       1.00      0.99      0.99      2077\n",
      "           1       0.99      1.00      0.99      2083\n",
      "\n",
      "    accuracy                           0.99      4160\n",
      "   macro avg       0.99      0.99      0.99      4160\n",
      "weighted avg       0.99      0.99      0.99      4160\n",
      "\n"
     ]
    }
   ],
   "source": [
    "class_report(dt_model)"
   ]
  },
  {
   "cell_type": "code",
   "execution_count": 47,
   "id": "f1f7750f",
   "metadata": {},
   "outputs": [
    {
     "name": "stdout",
     "output_type": "stream",
     "text": [
      "Random_Forest model score on Training data: 100.0%\n",
      "Random_Forest model score on Testing data: 99.23076923076923%\n"
     ]
    }
   ],
   "source": [
    "rf_model = RandomForestClassifier()\n",
    "train(rf_model, \"Random_Forest\")"
   ]
  },
  {
   "cell_type": "code",
   "execution_count": 48,
   "id": "f22e3c7e",
   "metadata": {},
   "outputs": [
    {
     "data": {
      "image/png": "[encoded data removed]",
      "text/plain": [
       "<Figure size 800x500 with 2 Axes>"
      ]
     },
     "metadata": {},
     "output_type": "display_data"
    }
   ],
   "source": [
    "conf_matrix(rf_model)"
   ]
  },
  {
   "cell_type": "code",
   "execution_count": 49,
   "id": "555dba39",
   "metadata": {},
   "outputs": [
    {
     "name": "stdout",
     "output_type": "stream",
     "text": [
      "KNN model score on Training data: 96.53846153846153%\n",
      "KNN model score on Testing data: 94.5673076923077%\n"
     ]
    }
   ],
   "source": [
    "knn = KNeighborsClassifier()\n",
    "train(knn, \"KNN\")"
   ]
  },
  {
   "cell_type": "code",
   "execution_count": 50,
   "id": "487f2aa5",
   "metadata": {},
   "outputs": [
    {
     "data": {
      "image/png": "[encoded data removed]",
      "text/plain": [
       "<Figure size 800x500 with 2 Axes>"
      ]
     },
     "metadata": {},
     "output_type": "display_data"
    }
   ],
   "source": [
    "conf_matrix(knn)"
   ]
  },
  {
   "cell_type": "code",
   "execution_count": 51,
   "id": "ec5fe140",
   "metadata": {},
   "outputs": [
    {
     "name": "stdout",
     "output_type": "stream",
     "text": [
      "              precision    recall  f1-score   support\n",
      "\n",
      "           0       0.93      0.96      0.95      2077\n",
      "           1       0.96      0.93      0.94      2083\n",
      "\n",
      "    accuracy                           0.95      4160\n",
      "   macro avg       0.95      0.95      0.95      4160\n",
      "weighted avg       0.95      0.95      0.95      4160\n",
      "\n"
     ]
    }
   ],
   "source": [
    "class_report(knn)"
   ]
  },
  {
   "cell_type": "code",
   "execution_count": 52,
   "id": "18758819",
   "metadata": {},
   "outputs": [
    {
     "name": "stdout",
     "output_type": "stream",
     "text": [
      "Naive_Bayes score on cross validation: 96.46634615384617%\n",
      "Naive_Bayes model score on Training data: 99.65745192307692%\n",
      "Naive_Bayes model score on Testing data: 96.49038461538461%\n"
     ]
    }
   ],
   "source": [
    "naive_bayes = MultinomialNB()\n",
    "kfolds(naive_bayes, \"Naive_Bayes\")\n",
    "train(naive_bayes, \"Naive_Bayes\")"
   ]
  },
  {
   "cell_type": "code",
   "execution_count": 53,
   "id": "a1cd8dcc",
   "metadata": {},
   "outputs": [
    {
     "data": {
      "image/png": "[encoded data removed]",
      "text/plain": [
       "<Figure size 800x500 with 2 Axes>"
      ]
     },
     "metadata": {},
     "output_type": "display_data"
    }
   ],
   "source": [
    "conf_matrix(naive_bayes)"
   ]
  },
  {
   "cell_type": "code",
   "execution_count": 54,
   "id": "2fbcec2e",
   "metadata": {},
   "outputs": [
    {
     "name": "stdout",
     "output_type": "stream",
     "text": [
      "              precision    recall  f1-score   support\n",
      "\n",
      "           0       0.94      1.00      0.97      2077\n",
      "           1       1.00      0.93      0.96      2083\n",
      "\n",
      "    accuracy                           0.96      4160\n",
      "   macro avg       0.97      0.96      0.96      4160\n",
      "weighted avg       0.97      0.96      0.96      4160\n",
      "\n"
     ]
    }
   ],
   "source": [
    "class_report(naive_bayes)"
   ]
  },
  {
   "cell_type": "code",
   "execution_count": 57,
   "id": "93b715fe",
   "metadata": {},
   "outputs": [
    {
     "name": "stdout",
     "output_type": "stream",
     "text": [
      "Requirement already satisfied: tpot in c:\\users\\dell\\anaconda3\\lib\\site-packages (0.12.2)\n",
      "Requirement already satisfied: deap>=1.2 in c:\\users\\dell\\anaconda3\\lib\\site-packages (from tpot) (1.4.1)\n",
      "Requirement already satisfied: tqdm>=4.36.1 in c:\\users\\dell\\anaconda3\\lib\\site-packages (from tpot) (4.64.1)\n",
      "Requirement already satisfied: scikit-learn>=1.4.1 in c:\\users\\dell\\anaconda3\\lib\\site-packages (from tpot) (1.4.1.post1)\n",
      "Requirement already satisfied: update-checker>=0.16 in c:\\users\\dell\\anaconda3\\lib\\site-packages (from tpot) (0.18.0)\n",
      "Requirement already satisfied: joblib>=0.13.2 in c:\\users\\dell\\anaconda3\\lib\\site-packages (from tpot) (1.3.2)\n",
      "Requirement already satisfied: numpy>=1.16.3 in c:\\users\\dell\\anaconda3\\lib\\site-packages (from tpot) (1.23.5)\n",
      "Requirement already satisfied: scipy>=1.3.1 in c:\\users\\dell\\anaconda3\\lib\\site-packages (from tpot) (1.10.0)\n",
      "Requirement already satisfied: pandas>=0.24.2 in c:\\users\\dell\\anaconda3\\lib\\site-packages (from tpot) (1.5.3)\n",
      "Requirement already satisfied: stopit>=1.1.1 in c:\\users\\dell\\anaconda3\\lib\\site-packages (from tpot) (1.1.2)\n",
      "Requirement already satisfied: xgboost>=1.1.0 in c:\\users\\dell\\anaconda3\\lib\\site-packages (from tpot) (2.0.3)\n",
      "Requirement already satisfied: python-dateutil>=2.8.1 in c:\\users\\dell\\anaconda3\\lib\\site-packages (from pandas>=0.24.2->tpot) (2.8.2)\n",
      "Requirement already satisfied: pytz>=2020.1 in c:\\users\\dell\\anaconda3\\lib\\site-packages (from pandas>=0.24.2->tpot) (2022.7)\n",
      "Requirement already satisfied: threadpoolctl>=2.0.0 in c:\\users\\dell\\anaconda3\\lib\\site-packages (from scikit-learn>=1.4.1->tpot) (2.2.0)\n",
      "Requirement already satisfied: colorama in c:\\users\\dell\\anaconda3\\lib\\site-packages (from tqdm>=4.36.1->tpot) (0.4.6)\n",
      "Requirement already satisfied: requests>=2.3.0 in c:\\users\\dell\\anaconda3\\lib\\site-packages (from update-checker>=0.16->tpot) (2.28.1)\n",
      "Requirement already satisfied: six>=1.5 in c:\\users\\dell\\anaconda3\\lib\\site-packages (from python-dateutil>=2.8.1->pandas>=0.24.2->tpot) (1.16.0)\n",
      "Requirement already satisfied: urllib3<1.27,>=1.21.1 in c:\\users\\dell\\anaconda3\\lib\\site-packages (from requests>=2.3.0->update-checker>=0.16->tpot) (1.26.14)\n",
      "Requirement already satisfied: idna<4,>=2.5 in c:\\users\\dell\\anaconda3\\lib\\site-packages (from requests>=2.3.0->update-checker>=0.16->tpot) (3.4)\n",
      "Requirement already satisfied: charset-normalizer<3,>=2 in c:\\users\\dell\\anaconda3\\lib\\site-packages (from requests>=2.3.0->update-checker>=0.16->tpot) (2.0.4)\n",
      "Requirement already satisfied: certifi>=2017.4.17 in c:\\users\\dell\\anaconda3\\lib\\site-packages (from requests>=2.3.0->update-checker>=0.16->tpot) (2023.7.22)\n",
      "Note: you may need to restart the kernel to use updated packages.\n"
     ]
    }
   ],
   "source": [
    "pip install tpot\n"
   ]
  },
  {
   "cell_type": "code",
   "execution_count": 62,
   "id": "0495eb56",
   "metadata": {},
   "outputs": [],
   "source": [
    "# Make predictions --> Logistic Regression\n",
    "predictions = log_model.predict(test_tfidf)\n",
    "# Submissions\n",
    "test_ID = test_news.id\n",
    "submission = pd.DataFrame({'id' : test_ID, 'label' : predictions})"
   ]
  },
  {
   "cell_type": "code",
   "execution_count": 63,
   "id": "819352af",
   "metadata": {},
   "outputs": [
    {
     "data": {
      "text/html": [
       "<div>\n",
       "<style scoped>\n",
       "    .dataframe tbody tr th:only-of-type {\n",
       "        vertical-align: middle;\n",
       "    }\n",
       "\n",
       "    .dataframe tbody tr th {\n",
       "        vertical-align: top;\n",
       "    }\n",
       "\n",
       "    .dataframe thead th {\n",
       "        text-align: right;\n",
       "    }\n",
       "</style>\n",
       "<table border=\"1\" class=\"dataframe\">\n",
       "  <thead>\n",
       "    <tr style=\"text-align: right;\">\n",
       "      <th></th>\n",
       "      <th>id</th>\n",
       "      <th>label</th>\n",
       "    </tr>\n",
       "  </thead>\n",
       "  <tbody>\n",
       "    <tr>\n",
       "      <th>0</th>\n",
       "      <td>20800</td>\n",
       "      <td>0</td>\n",
       "    </tr>\n",
       "    <tr>\n",
       "      <th>1</th>\n",
       "      <td>20801</td>\n",
       "      <td>1</td>\n",
       "    </tr>\n",
       "    <tr>\n",
       "      <th>2</th>\n",
       "      <td>20802</td>\n",
       "      <td>1</td>\n",
       "    </tr>\n",
       "    <tr>\n",
       "      <th>3</th>\n",
       "      <td>20803</td>\n",
       "      <td>0</td>\n",
       "    </tr>\n",
       "    <tr>\n",
       "      <th>4</th>\n",
       "      <td>20804</td>\n",
       "      <td>1</td>\n",
       "    </tr>\n",
       "  </tbody>\n",
       "</table>\n",
       "</div>"
      ],
      "text/plain": [
       "      id  label\n",
       "0  20800      0\n",
       "1  20801      1\n",
       "2  20802      1\n",
       "3  20803      0\n",
       "4  20804      1"
      ]
     },
     "execution_count": 63,
     "metadata": {},
     "output_type": "execute_result"
    }
   ],
   "source": [
    "submission.head()"
   ]
  },
  {
   "cell_type": "code",
   "execution_count": 64,
   "id": "36ae5cb2",
   "metadata": {},
   "outputs": [],
   "source": [
    "submission.to_csv(\"./Logistic Regression.csv\", index=False)"
   ]
  },
  {
   "cell_type": "code",
   "execution_count": 65,
   "id": "d13375d8",
   "metadata": {},
   "outputs": [],
   "source": [
    "# Make predictions --> \n",
    "predictions = dt_model.predict(test_tfidf)\n",
    "# Submissions\n",
    "test_ID = test_news.id\n",
    "dt_submission = pd.DataFrame({'id' : test_ID, 'label' : predictions})"
   ]
  },
  {
   "cell_type": "code",
   "execution_count": 66,
   "id": "058724fa",
   "metadata": {},
   "outputs": [
    {
     "data": {
      "text/html": [
       "<div>\n",
       "<style scoped>\n",
       "    .dataframe tbody tr th:only-of-type {\n",
       "        vertical-align: middle;\n",
       "    }\n",
       "\n",
       "    .dataframe tbody tr th {\n",
       "        vertical-align: top;\n",
       "    }\n",
       "\n",
       "    .dataframe thead th {\n",
       "        text-align: right;\n",
       "    }\n",
       "</style>\n",
       "<table border=\"1\" class=\"dataframe\">\n",
       "  <thead>\n",
       "    <tr style=\"text-align: right;\">\n",
       "      <th></th>\n",
       "      <th>id</th>\n",
       "      <th>label</th>\n",
       "    </tr>\n",
       "  </thead>\n",
       "  <tbody>\n",
       "    <tr>\n",
       "      <th>0</th>\n",
       "      <td>20800</td>\n",
       "      <td>0</td>\n",
       "    </tr>\n",
       "    <tr>\n",
       "      <th>1</th>\n",
       "      <td>20801</td>\n",
       "      <td>1</td>\n",
       "    </tr>\n",
       "    <tr>\n",
       "      <th>2</th>\n",
       "      <td>20802</td>\n",
       "      <td>1</td>\n",
       "    </tr>\n",
       "    <tr>\n",
       "      <th>3</th>\n",
       "      <td>20803</td>\n",
       "      <td>0</td>\n",
       "    </tr>\n",
       "    <tr>\n",
       "      <th>4</th>\n",
       "      <td>20804</td>\n",
       "      <td>1</td>\n",
       "    </tr>\n",
       "  </tbody>\n",
       "</table>\n",
       "</div>"
      ],
      "text/plain": [
       "      id  label\n",
       "0  20800      0\n",
       "1  20801      1\n",
       "2  20802      1\n",
       "3  20803      0\n",
       "4  20804      1"
      ]
     },
     "execution_count": 66,
     "metadata": {},
     "output_type": "execute_result"
    }
   ],
   "source": [
    "dt_submission.head()"
   ]
  },
  {
   "cell_type": "code",
   "execution_count": 67,
   "id": "ab91c587",
   "metadata": {},
   "outputs": [],
   "source": [
    "dt_submission.to_csv(\"./Decision Tree.csv\", index=False)"
   ]
  },
  {
   "cell_type": "code",
   "execution_count": null,
   "id": "d4fed4a4",
   "metadata": {},
   "outputs": [],
   "source": []
  }
 ],
 "metadata": {
  "kernelspec": {
   "display_name": "Python 3 (ipykernel)",
   "language": "python",
   "name": "python3"
  },
  "language_info": {
   "codemirror_mode": {
    "name": "ipython",
    "version": 3
   },
   "file_extension": ".py",
   "mimetype": "text/x-python",
   "name": "python",
   "nbconvert_exporter": "python",
   "pygments_lexer": "ipython3",
   "version": "3.10.9"
  }
 },
 "nbformat": 4,
 "nbformat_minor": 5
}
